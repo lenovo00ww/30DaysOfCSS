{
  "cells": [
    {
      "cell_type": "markdown",
      "metadata": {
        "id": "view-in-github",
        "colab_type": "text"
      },
      "source": [
        "<a href=\"https://colab.research.google.com/github/lenovo00ww/30DaysOfCSS/blob/main/scratchpad.ipynb\" target=\"_parent\"><img src=\"https://colab.research.google.com/assets/colab-badge.svg\" alt=\"Open In Colab\"/></a>"
      ]
    },
    {
      "cell_type": "markdown",
      "source": [
        "### **CS240**\n",
        "\n",
        "\n",
        "---\n",
        "CS240  homework\n",
        "\n",
        "Student ID : 6709620022  \n",
        "Section :870002\n",
        "\n",
        "Toppic:รถยนต์ไฟฟ้า (EV) : คุ้มค่าต่อการลงทุนหรือไม่?"
      ],
      "metadata": {
        "id": "T_qqAmvzenG4"
      }
    },
    {
      "cell_type": "markdown",
      "source": [
        "### **Problem Framing**"
      ],
      "metadata": {
        "id": "0uKCasRWetpf"
      }
    },
    {
      "cell_type": "code",
      "execution_count": 23,
      "metadata": {
        "id": "lIYdn1woOS1n"
      },
      "outputs": [],
      "source": [
        "# Load libraries\n",
        "import pandas as pd\n",
        "import seaborn as sb\n",
        "import matplotlib.pyplot as plt"
      ]
    },
    {
      "cell_type": "markdown",
      "source": [
        "### **Data Acquisition**\n",
        "import: https://www.kaggle.com/datasets/pratyushpuri/ev-electrical-vehicles-dataset-3k-records-2025\n",
        "\n",
        "\n"
      ],
      "metadata": {
        "id": "wp6CE2nxeyqd"
      }
    },
    {
      "cell_type": "code",
      "source": [
        "import kagglehub\n",
        "\n",
        "# Download latest version\n",
        "path = kagglehub.dataset_download(\"pratyushpuri/ev-electrical-vehicles-dataset-3k-records-2025\")\n",
        "\n",
        "print(\"Path to dataset files:\", path)"
      ],
      "metadata": {
        "id": "WIohjYGxe2Qn",
        "outputId": "68baf8dc-fcf5-46d9-a459-a3a02a26d294",
        "colab": {
          "base_uri": "https://localhost:8080/"
        }
      },
      "execution_count": 24,
      "outputs": [
        {
          "output_type": "stream",
          "name": "stdout",
          "text": [
            "Using Colab cache for faster access to the 'ev-electrical-vehicles-dataset-3k-records-2025' dataset.\n",
            "Path to dataset files: /kaggle/input/ev-electrical-vehicles-dataset-3k-records-2025\n"
          ]
        }
      ]
    },
    {
      "cell_type": "code",
      "source": [
        "# Load Files\n",
        "from google.colab import files\n",
        "uploaded = files.upload()"
      ],
      "metadata": {
        "id": "sw39-GLge_2Y",
        "outputId": "58be48ab-fe57-490a-8de4-f49fe3caafd2",
        "colab": {
          "base_uri": "https://localhost:8080/",
          "height": 73
        }
      },
      "execution_count": 19,
      "outputs": [
        {
          "output_type": "display_data",
          "data": {
            "text/plain": [
              "<IPython.core.display.HTML object>"
            ],
            "text/html": [
              "\n",
              "     <input type=\"file\" id=\"files-79db6d2e-9c6a-4c9f-b869-b39b3a122a48\" name=\"files[]\" multiple disabled\n",
              "        style=\"border:none\" />\n",
              "     <output id=\"result-79db6d2e-9c6a-4c9f-b869-b39b3a122a48\">\n",
              "      Upload widget is only available when the cell has been executed in the\n",
              "      current browser session. Please rerun this cell to enable.\n",
              "      </output>\n",
              "      <script>// Copyright 2017 Google LLC\n",
              "//\n",
              "// Licensed under the Apache License, Version 2.0 (the \"License\");\n",
              "// you may not use this file except in compliance with the License.\n",
              "// You may obtain a copy of the License at\n",
              "//\n",
              "//      http://www.apache.org/licenses/LICENSE-2.0\n",
              "//\n",
              "// Unless required by applicable law or agreed to in writing, software\n",
              "// distributed under the License is distributed on an \"AS IS\" BASIS,\n",
              "// WITHOUT WARRANTIES OR CONDITIONS OF ANY KIND, either express or implied.\n",
              "// See the License for the specific language governing permissions and\n",
              "// limitations under the License.\n",
              "\n",
              "/**\n",
              " * @fileoverview Helpers for google.colab Python module.\n",
              " */\n",
              "(function(scope) {\n",
              "function span(text, styleAttributes = {}) {\n",
              "  const element = document.createElement('span');\n",
              "  element.textContent = text;\n",
              "  for (const key of Object.keys(styleAttributes)) {\n",
              "    element.style[key] = styleAttributes[key];\n",
              "  }\n",
              "  return element;\n",
              "}\n",
              "\n",
              "// Max number of bytes which will be uploaded at a time.\n",
              "const MAX_PAYLOAD_SIZE = 100 * 1024;\n",
              "\n",
              "function _uploadFiles(inputId, outputId) {\n",
              "  const steps = uploadFilesStep(inputId, outputId);\n",
              "  const outputElement = document.getElementById(outputId);\n",
              "  // Cache steps on the outputElement to make it available for the next call\n",
              "  // to uploadFilesContinue from Python.\n",
              "  outputElement.steps = steps;\n",
              "\n",
              "  return _uploadFilesContinue(outputId);\n",
              "}\n",
              "\n",
              "// This is roughly an async generator (not supported in the browser yet),\n",
              "// where there are multiple asynchronous steps and the Python side is going\n",
              "// to poll for completion of each step.\n",
              "// This uses a Promise to block the python side on completion of each step,\n",
              "// then passes the result of the previous step as the input to the next step.\n",
              "function _uploadFilesContinue(outputId) {\n",
              "  const outputElement = document.getElementById(outputId);\n",
              "  const steps = outputElement.steps;\n",
              "\n",
              "  const next = steps.next(outputElement.lastPromiseValue);\n",
              "  return Promise.resolve(next.value.promise).then((value) => {\n",
              "    // Cache the last promise value to make it available to the next\n",
              "    // step of the generator.\n",
              "    outputElement.lastPromiseValue = value;\n",
              "    return next.value.response;\n",
              "  });\n",
              "}\n",
              "\n",
              "/**\n",
              " * Generator function which is called between each async step of the upload\n",
              " * process.\n",
              " * @param {string} inputId Element ID of the input file picker element.\n",
              " * @param {string} outputId Element ID of the output display.\n",
              " * @return {!Iterable<!Object>} Iterable of next steps.\n",
              " */\n",
              "function* uploadFilesStep(inputId, outputId) {\n",
              "  const inputElement = document.getElementById(inputId);\n",
              "  inputElement.disabled = false;\n",
              "\n",
              "  const outputElement = document.getElementById(outputId);\n",
              "  outputElement.innerHTML = '';\n",
              "\n",
              "  const pickedPromise = new Promise((resolve) => {\n",
              "    inputElement.addEventListener('change', (e) => {\n",
              "      resolve(e.target.files);\n",
              "    });\n",
              "  });\n",
              "\n",
              "  const cancel = document.createElement('button');\n",
              "  inputElement.parentElement.appendChild(cancel);\n",
              "  cancel.textContent = 'Cancel upload';\n",
              "  const cancelPromise = new Promise((resolve) => {\n",
              "    cancel.onclick = () => {\n",
              "      resolve(null);\n",
              "    };\n",
              "  });\n",
              "\n",
              "  // Wait for the user to pick the files.\n",
              "  const files = yield {\n",
              "    promise: Promise.race([pickedPromise, cancelPromise]),\n",
              "    response: {\n",
              "      action: 'starting',\n",
              "    }\n",
              "  };\n",
              "\n",
              "  cancel.remove();\n",
              "\n",
              "  // Disable the input element since further picks are not allowed.\n",
              "  inputElement.disabled = true;\n",
              "\n",
              "  if (!files) {\n",
              "    return {\n",
              "      response: {\n",
              "        action: 'complete',\n",
              "      }\n",
              "    };\n",
              "  }\n",
              "\n",
              "  for (const file of files) {\n",
              "    const li = document.createElement('li');\n",
              "    li.append(span(file.name, {fontWeight: 'bold'}));\n",
              "    li.append(span(\n",
              "        `(${file.type || 'n/a'}) - ${file.size} bytes, ` +\n",
              "        `last modified: ${\n",
              "            file.lastModifiedDate ? file.lastModifiedDate.toLocaleDateString() :\n",
              "                                    'n/a'} - `));\n",
              "    const percent = span('0% done');\n",
              "    li.appendChild(percent);\n",
              "\n",
              "    outputElement.appendChild(li);\n",
              "\n",
              "    const fileDataPromise = new Promise((resolve) => {\n",
              "      const reader = new FileReader();\n",
              "      reader.onload = (e) => {\n",
              "        resolve(e.target.result);\n",
              "      };\n",
              "      reader.readAsArrayBuffer(file);\n",
              "    });\n",
              "    // Wait for the data to be ready.\n",
              "    let fileData = yield {\n",
              "      promise: fileDataPromise,\n",
              "      response: {\n",
              "        action: 'continue',\n",
              "      }\n",
              "    };\n",
              "\n",
              "    // Use a chunked sending to avoid message size limits. See b/62115660.\n",
              "    let position = 0;\n",
              "    do {\n",
              "      const length = Math.min(fileData.byteLength - position, MAX_PAYLOAD_SIZE);\n",
              "      const chunk = new Uint8Array(fileData, position, length);\n",
              "      position += length;\n",
              "\n",
              "      const base64 = btoa(String.fromCharCode.apply(null, chunk));\n",
              "      yield {\n",
              "        response: {\n",
              "          action: 'append',\n",
              "          file: file.name,\n",
              "          data: base64,\n",
              "        },\n",
              "      };\n",
              "\n",
              "      let percentDone = fileData.byteLength === 0 ?\n",
              "          100 :\n",
              "          Math.round((position / fileData.byteLength) * 100);\n",
              "      percent.textContent = `${percentDone}% done`;\n",
              "\n",
              "    } while (position < fileData.byteLength);\n",
              "  }\n",
              "\n",
              "  // All done.\n",
              "  yield {\n",
              "    response: {\n",
              "      action: 'complete',\n",
              "    }\n",
              "  };\n",
              "}\n",
              "\n",
              "scope.google = scope.google || {};\n",
              "scope.google.colab = scope.google.colab || {};\n",
              "scope.google.colab._files = {\n",
              "  _uploadFiles,\n",
              "  _uploadFilesContinue,\n",
              "};\n",
              "})(self);\n",
              "</script> "
            ]
          },
          "metadata": {}
        },
        {
          "output_type": "stream",
          "name": "stdout",
          "text": [
            "Saving electric_vehicles_dataset.csv to electric_vehicles_dataset (1).csv\n"
          ]
        }
      ]
    },
    {
      "cell_type": "code",
      "source": [
        "# Read Files\n",
        "wine = pd.read_csv(\"electric_vehicles_dataset.csv\")"
      ],
      "metadata": {
        "id": "vFb3jMUUe_si"
      },
      "execution_count": 20,
      "outputs": []
    },
    {
      "cell_type": "code",
      "source": [
        "# View first five rows of the dataset\n",
        "wine.head()"
      ],
      "metadata": {
        "id": "Jpq7YYqohCzX",
        "outputId": "2f8b4062-dc0c-421c-a8ac-6d6bacb0e7df",
        "colab": {
          "base_uri": "https://localhost:8080/",
          "height": 382
        }
      },
      "execution_count": 22,
      "outputs": [
        {
          "output_type": "execute_result",
          "data": {
            "text/plain": [
              "   Vehicle_ID Manufacturer                 Model  Year  \\\n",
              "0           1        Acura  ZDX (with GM Ultium)  2015   \n",
              "1           2  Lamborghini       Revuelto (PHEV)  2025   \n",
              "2           3          NIO                   ET7  2020   \n",
              "3           4         Audi                e-tron  2025   \n",
              "4           5        Acura  ZDX (with GM Ultium)  2023   \n",
              "\n",
              "             Battery_Type  Battery_Capacity_kWh  Range_km  \\\n",
              "0        Lithium-titanate                  55.8       214   \n",
              "1        Lithium-titanate                  90.8       212   \n",
              "2             Calcium-ion                  64.7       235   \n",
              "3  Lithium-iron phosphate                 120.5       140   \n",
              "4        Lithium-titanate                  51.8       336   \n",
              "\n",
              "                   Charging_Type  Charge_Time_hr  Price_USD          Color  \\\n",
              "0                        CHAdeMO             9.0  111203.94    Matte White   \n",
              "1          Vehicle-to-Home (V2H)             7.3  127131.65          White   \n",
              "2               Level 2 Charging             8.9   94347.37          Beige   \n",
              "3  Ultra-Fast Charging (350 kW+)            10.5   75615.15  Sunset Orange   \n",
              "4     Plug-in Hydrogen Refueling             3.6  141046.94     Ice Silver   \n",
              "\n",
              "  Country_of_Manufacture  Autonomous_Level  CO2_Emissions_g_per_km  \\\n",
              "0                     UK               0.0                     NaN   \n",
              "1            Netherlands               2.0                     0.0   \n",
              "2                     UK               5.0                     0.0   \n",
              "3              Argentina               2.0                     0.0   \n",
              "4   United Arab Emirates               2.0                     0.0   \n",
              "\n",
              "   Safety_Rating  Units_Sold_2024  Warranty_Years  \n",
              "0            5.0            19726               3  \n",
              "1            4.0             3349               3  \n",
              "2            5.0             6300               5  \n",
              "3            5.0             2339               5  \n",
              "4            3.0             1051               4  "
            ],
            "text/html": [
              "\n",
              "  <div id=\"df-f208ba40-fe63-497f-8ea3-594e667e4c79\" class=\"colab-df-container\">\n",
              "    <div>\n",
              "<style scoped>\n",
              "    .dataframe tbody tr th:only-of-type {\n",
              "        vertical-align: middle;\n",
              "    }\n",
              "\n",
              "    .dataframe tbody tr th {\n",
              "        vertical-align: top;\n",
              "    }\n",
              "\n",
              "    .dataframe thead th {\n",
              "        text-align: right;\n",
              "    }\n",
              "</style>\n",
              "<table border=\"1\" class=\"dataframe\">\n",
              "  <thead>\n",
              "    <tr style=\"text-align: right;\">\n",
              "      <th></th>\n",
              "      <th>Vehicle_ID</th>\n",
              "      <th>Manufacturer</th>\n",
              "      <th>Model</th>\n",
              "      <th>Year</th>\n",
              "      <th>Battery_Type</th>\n",
              "      <th>Battery_Capacity_kWh</th>\n",
              "      <th>Range_km</th>\n",
              "      <th>Charging_Type</th>\n",
              "      <th>Charge_Time_hr</th>\n",
              "      <th>Price_USD</th>\n",
              "      <th>Color</th>\n",
              "      <th>Country_of_Manufacture</th>\n",
              "      <th>Autonomous_Level</th>\n",
              "      <th>CO2_Emissions_g_per_km</th>\n",
              "      <th>Safety_Rating</th>\n",
              "      <th>Units_Sold_2024</th>\n",
              "      <th>Warranty_Years</th>\n",
              "    </tr>\n",
              "  </thead>\n",
              "  <tbody>\n",
              "    <tr>\n",
              "      <th>0</th>\n",
              "      <td>1</td>\n",
              "      <td>Acura</td>\n",
              "      <td>ZDX (with GM Ultium)</td>\n",
              "      <td>2015</td>\n",
              "      <td>Lithium-titanate</td>\n",
              "      <td>55.8</td>\n",
              "      <td>214</td>\n",
              "      <td>CHAdeMO</td>\n",
              "      <td>9.0</td>\n",
              "      <td>111203.94</td>\n",
              "      <td>Matte White</td>\n",
              "      <td>UK</td>\n",
              "      <td>0.0</td>\n",
              "      <td>NaN</td>\n",
              "      <td>5.0</td>\n",
              "      <td>19726</td>\n",
              "      <td>3</td>\n",
              "    </tr>\n",
              "    <tr>\n",
              "      <th>1</th>\n",
              "      <td>2</td>\n",
              "      <td>Lamborghini</td>\n",
              "      <td>Revuelto (PHEV)</td>\n",
              "      <td>2025</td>\n",
              "      <td>Lithium-titanate</td>\n",
              "      <td>90.8</td>\n",
              "      <td>212</td>\n",
              "      <td>Vehicle-to-Home (V2H)</td>\n",
              "      <td>7.3</td>\n",
              "      <td>127131.65</td>\n",
              "      <td>White</td>\n",
              "      <td>Netherlands</td>\n",
              "      <td>2.0</td>\n",
              "      <td>0.0</td>\n",
              "      <td>4.0</td>\n",
              "      <td>3349</td>\n",
              "      <td>3</td>\n",
              "    </tr>\n",
              "    <tr>\n",
              "      <th>2</th>\n",
              "      <td>3</td>\n",
              "      <td>NIO</td>\n",
              "      <td>ET7</td>\n",
              "      <td>2020</td>\n",
              "      <td>Calcium-ion</td>\n",
              "      <td>64.7</td>\n",
              "      <td>235</td>\n",
              "      <td>Level 2 Charging</td>\n",
              "      <td>8.9</td>\n",
              "      <td>94347.37</td>\n",
              "      <td>Beige</td>\n",
              "      <td>UK</td>\n",
              "      <td>5.0</td>\n",
              "      <td>0.0</td>\n",
              "      <td>5.0</td>\n",
              "      <td>6300</td>\n",
              "      <td>5</td>\n",
              "    </tr>\n",
              "    <tr>\n",
              "      <th>3</th>\n",
              "      <td>4</td>\n",
              "      <td>Audi</td>\n",
              "      <td>e-tron</td>\n",
              "      <td>2025</td>\n",
              "      <td>Lithium-iron phosphate</td>\n",
              "      <td>120.5</td>\n",
              "      <td>140</td>\n",
              "      <td>Ultra-Fast Charging (350 kW+)</td>\n",
              "      <td>10.5</td>\n",
              "      <td>75615.15</td>\n",
              "      <td>Sunset Orange</td>\n",
              "      <td>Argentina</td>\n",
              "      <td>2.0</td>\n",
              "      <td>0.0</td>\n",
              "      <td>5.0</td>\n",
              "      <td>2339</td>\n",
              "      <td>5</td>\n",
              "    </tr>\n",
              "    <tr>\n",
              "      <th>4</th>\n",
              "      <td>5</td>\n",
              "      <td>Acura</td>\n",
              "      <td>ZDX (with GM Ultium)</td>\n",
              "      <td>2023</td>\n",
              "      <td>Lithium-titanate</td>\n",
              "      <td>51.8</td>\n",
              "      <td>336</td>\n",
              "      <td>Plug-in Hydrogen Refueling</td>\n",
              "      <td>3.6</td>\n",
              "      <td>141046.94</td>\n",
              "      <td>Ice Silver</td>\n",
              "      <td>United Arab Emirates</td>\n",
              "      <td>2.0</td>\n",
              "      <td>0.0</td>\n",
              "      <td>3.0</td>\n",
              "      <td>1051</td>\n",
              "      <td>4</td>\n",
              "    </tr>\n",
              "  </tbody>\n",
              "</table>\n",
              "</div>\n",
              "    <div class=\"colab-df-buttons\">\n",
              "\n",
              "  <div class=\"colab-df-container\">\n",
              "    <button class=\"colab-df-convert\" onclick=\"convertToInteractive('df-f208ba40-fe63-497f-8ea3-594e667e4c79')\"\n",
              "            title=\"Convert this dataframe to an interactive table.\"\n",
              "            style=\"display:none;\">\n",
              "\n",
              "  <svg xmlns=\"http://www.w3.org/2000/svg\" height=\"24px\" viewBox=\"0 -960 960 960\">\n",
              "    <path d=\"M120-120v-720h720v720H120Zm60-500h600v-160H180v160Zm220 220h160v-160H400v160Zm0 220h160v-160H400v160ZM180-400h160v-160H180v160Zm440 0h160v-160H620v160ZM180-180h160v-160H180v160Zm440 0h160v-160H620v160Z\"/>\n",
              "  </svg>\n",
              "    </button>\n",
              "\n",
              "  <style>\n",
              "    .colab-df-container {\n",
              "      display:flex;\n",
              "      gap: 12px;\n",
              "    }\n",
              "\n",
              "    .colab-df-convert {\n",
              "      background-color: #E8F0FE;\n",
              "      border: none;\n",
              "      border-radius: 50%;\n",
              "      cursor: pointer;\n",
              "      display: none;\n",
              "      fill: #1967D2;\n",
              "      height: 32px;\n",
              "      padding: 0 0 0 0;\n",
              "      width: 32px;\n",
              "    }\n",
              "\n",
              "    .colab-df-convert:hover {\n",
              "      background-color: #E2EBFA;\n",
              "      box-shadow: 0px 1px 2px rgba(60, 64, 67, 0.3), 0px 1px 3px 1px rgba(60, 64, 67, 0.15);\n",
              "      fill: #174EA6;\n",
              "    }\n",
              "\n",
              "    .colab-df-buttons div {\n",
              "      margin-bottom: 4px;\n",
              "    }\n",
              "\n",
              "    [theme=dark] .colab-df-convert {\n",
              "      background-color: #3B4455;\n",
              "      fill: #D2E3FC;\n",
              "    }\n",
              "\n",
              "    [theme=dark] .colab-df-convert:hover {\n",
              "      background-color: #434B5C;\n",
              "      box-shadow: 0px 1px 3px 1px rgba(0, 0, 0, 0.15);\n",
              "      filter: drop-shadow(0px 1px 2px rgba(0, 0, 0, 0.3));\n",
              "      fill: #FFFFFF;\n",
              "    }\n",
              "  </style>\n",
              "\n",
              "    <script>\n",
              "      const buttonEl =\n",
              "        document.querySelector('#df-f208ba40-fe63-497f-8ea3-594e667e4c79 button.colab-df-convert');\n",
              "      buttonEl.style.display =\n",
              "        google.colab.kernel.accessAllowed ? 'block' : 'none';\n",
              "\n",
              "      async function convertToInteractive(key) {\n",
              "        const element = document.querySelector('#df-f208ba40-fe63-497f-8ea3-594e667e4c79');\n",
              "        const dataTable =\n",
              "          await google.colab.kernel.invokeFunction('convertToInteractive',\n",
              "                                                    [key], {});\n",
              "        if (!dataTable) return;\n",
              "\n",
              "        const docLinkHtml = 'Like what you see? Visit the ' +\n",
              "          '<a target=\"_blank\" href=https://colab.research.google.com/notebooks/data_table.ipynb>data table notebook</a>'\n",
              "          + ' to learn more about interactive tables.';\n",
              "        element.innerHTML = '';\n",
              "        dataTable['output_type'] = 'display_data';\n",
              "        await google.colab.output.renderOutput(dataTable, element);\n",
              "        const docLink = document.createElement('div');\n",
              "        docLink.innerHTML = docLinkHtml;\n",
              "        element.appendChild(docLink);\n",
              "      }\n",
              "    </script>\n",
              "  </div>\n",
              "\n",
              "\n",
              "    <div id=\"df-5524401b-86ae-4054-a44c-a06dc879b64a\">\n",
              "      <button class=\"colab-df-quickchart\" onclick=\"quickchart('df-5524401b-86ae-4054-a44c-a06dc879b64a')\"\n",
              "                title=\"Suggest charts\"\n",
              "                style=\"display:none;\">\n",
              "\n",
              "<svg xmlns=\"http://www.w3.org/2000/svg\" height=\"24px\"viewBox=\"0 0 24 24\"\n",
              "     width=\"24px\">\n",
              "    <g>\n",
              "        <path d=\"M19 3H5c-1.1 0-2 .9-2 2v14c0 1.1.9 2 2 2h14c1.1 0 2-.9 2-2V5c0-1.1-.9-2-2-2zM9 17H7v-7h2v7zm4 0h-2V7h2v10zm4 0h-2v-4h2v4z\"/>\n",
              "    </g>\n",
              "</svg>\n",
              "      </button>\n",
              "\n",
              "<style>\n",
              "  .colab-df-quickchart {\n",
              "      --bg-color: #E8F0FE;\n",
              "      --fill-color: #1967D2;\n",
              "      --hover-bg-color: #E2EBFA;\n",
              "      --hover-fill-color: #174EA6;\n",
              "      --disabled-fill-color: #AAA;\n",
              "      --disabled-bg-color: #DDD;\n",
              "  }\n",
              "\n",
              "  [theme=dark] .colab-df-quickchart {\n",
              "      --bg-color: #3B4455;\n",
              "      --fill-color: #D2E3FC;\n",
              "      --hover-bg-color: #434B5C;\n",
              "      --hover-fill-color: #FFFFFF;\n",
              "      --disabled-bg-color: #3B4455;\n",
              "      --disabled-fill-color: #666;\n",
              "  }\n",
              "\n",
              "  .colab-df-quickchart {\n",
              "    background-color: var(--bg-color);\n",
              "    border: none;\n",
              "    border-radius: 50%;\n",
              "    cursor: pointer;\n",
              "    display: none;\n",
              "    fill: var(--fill-color);\n",
              "    height: 32px;\n",
              "    padding: 0;\n",
              "    width: 32px;\n",
              "  }\n",
              "\n",
              "  .colab-df-quickchart:hover {\n",
              "    background-color: var(--hover-bg-color);\n",
              "    box-shadow: 0 1px 2px rgba(60, 64, 67, 0.3), 0 1px 3px 1px rgba(60, 64, 67, 0.15);\n",
              "    fill: var(--button-hover-fill-color);\n",
              "  }\n",
              "\n",
              "  .colab-df-quickchart-complete:disabled,\n",
              "  .colab-df-quickchart-complete:disabled:hover {\n",
              "    background-color: var(--disabled-bg-color);\n",
              "    fill: var(--disabled-fill-color);\n",
              "    box-shadow: none;\n",
              "  }\n",
              "\n",
              "  .colab-df-spinner {\n",
              "    border: 2px solid var(--fill-color);\n",
              "    border-color: transparent;\n",
              "    border-bottom-color: var(--fill-color);\n",
              "    animation:\n",
              "      spin 1s steps(1) infinite;\n",
              "  }\n",
              "\n",
              "  @keyframes spin {\n",
              "    0% {\n",
              "      border-color: transparent;\n",
              "      border-bottom-color: var(--fill-color);\n",
              "      border-left-color: var(--fill-color);\n",
              "    }\n",
              "    20% {\n",
              "      border-color: transparent;\n",
              "      border-left-color: var(--fill-color);\n",
              "      border-top-color: var(--fill-color);\n",
              "    }\n",
              "    30% {\n",
              "      border-color: transparent;\n",
              "      border-left-color: var(--fill-color);\n",
              "      border-top-color: var(--fill-color);\n",
              "      border-right-color: var(--fill-color);\n",
              "    }\n",
              "    40% {\n",
              "      border-color: transparent;\n",
              "      border-right-color: var(--fill-color);\n",
              "      border-top-color: var(--fill-color);\n",
              "    }\n",
              "    60% {\n",
              "      border-color: transparent;\n",
              "      border-right-color: var(--fill-color);\n",
              "    }\n",
              "    80% {\n",
              "      border-color: transparent;\n",
              "      border-right-color: var(--fill-color);\n",
              "      border-bottom-color: var(--fill-color);\n",
              "    }\n",
              "    90% {\n",
              "      border-color: transparent;\n",
              "      border-bottom-color: var(--fill-color);\n",
              "    }\n",
              "  }\n",
              "</style>\n",
              "\n",
              "      <script>\n",
              "        async function quickchart(key) {\n",
              "          const quickchartButtonEl =\n",
              "            document.querySelector('#' + key + ' button');\n",
              "          quickchartButtonEl.disabled = true;  // To prevent multiple clicks.\n",
              "          quickchartButtonEl.classList.add('colab-df-spinner');\n",
              "          try {\n",
              "            const charts = await google.colab.kernel.invokeFunction(\n",
              "                'suggestCharts', [key], {});\n",
              "          } catch (error) {\n",
              "            console.error('Error during call to suggestCharts:', error);\n",
              "          }\n",
              "          quickchartButtonEl.classList.remove('colab-df-spinner');\n",
              "          quickchartButtonEl.classList.add('colab-df-quickchart-complete');\n",
              "        }\n",
              "        (() => {\n",
              "          let quickchartButtonEl =\n",
              "            document.querySelector('#df-5524401b-86ae-4054-a44c-a06dc879b64a button');\n",
              "          quickchartButtonEl.style.display =\n",
              "            google.colab.kernel.accessAllowed ? 'block' : 'none';\n",
              "        })();\n",
              "      </script>\n",
              "    </div>\n",
              "\n",
              "    </div>\n",
              "  </div>\n"
            ],
            "application/vnd.google.colaboratory.intrinsic+json": {
              "type": "dataframe",
              "variable_name": "wine",
              "summary": "{\n  \"name\": \"wine\",\n  \"rows\": 3022,\n  \"fields\": [\n    {\n      \"column\": \"Vehicle_ID\",\n      \"properties\": {\n        \"dtype\": \"number\",\n        \"std\": 872,\n        \"min\": 1,\n        \"max\": 3022,\n        \"num_unique_values\": 3022,\n        \"samples\": [\n          1414,\n          613,\n          332\n        ],\n        \"semantic_type\": \"\",\n        \"description\": \"\"\n      }\n    },\n    {\n      \"column\": \"Manufacturer\",\n      \"properties\": {\n        \"dtype\": \"category\",\n        \"num_unique_values\": 53,\n        \"samples\": [\n          \"Chevrolet\",\n          \"Dacia\",\n          \"Fisker\"\n        ],\n        \"semantic_type\": \"\",\n        \"description\": \"\"\n      }\n    },\n    {\n      \"column\": \"Model\",\n      \"properties\": {\n        \"dtype\": \"category\",\n        \"num_unique_values\": 181,\n        \"samples\": [\n          \"Enyaq\",\n          \"ID.5\",\n          \"i7\"\n        ],\n        \"semantic_type\": \"\",\n        \"description\": \"\"\n      }\n    },\n    {\n      \"column\": \"Year\",\n      \"properties\": {\n        \"dtype\": \"number\",\n        \"std\": 3,\n        \"min\": 2015,\n        \"max\": 2025,\n        \"num_unique_values\": 11,\n        \"samples\": [\n          2024,\n          2015,\n          2021\n        ],\n        \"semantic_type\": \"\",\n        \"description\": \"\"\n      }\n    },\n    {\n      \"column\": \"Battery_Type\",\n      \"properties\": {\n        \"dtype\": \"category\",\n        \"num_unique_values\": 15,\n        \"samples\": [\n          \"Zinc-air\",\n          \"Sodium-ion\",\n          \"Lithium-titanate\"\n        ],\n        \"semantic_type\": \"\",\n        \"description\": \"\"\n      }\n    },\n    {\n      \"column\": \"Battery_Capacity_kWh\",\n      \"properties\": {\n        \"dtype\": \"number\",\n        \"std\": 37.210461345164184,\n        \"min\": 20.0,\n        \"max\": 150.0,\n        \"num_unique_values\": 1186,\n        \"samples\": [\n          89.4,\n          87.8,\n          145.1\n        ],\n        \"semantic_type\": \"\",\n        \"description\": \"\"\n      }\n    },\n    {\n      \"column\": \"Range_km\",\n      \"properties\": {\n        \"dtype\": \"number\",\n        \"std\": 145,\n        \"min\": 100,\n        \"max\": 600,\n        \"num_unique_values\": 501,\n        \"samples\": [\n          575,\n          290,\n          185\n        ],\n        \"semantic_type\": \"\",\n        \"description\": \"\"\n      }\n    },\n    {\n      \"column\": \"Charging_Type\",\n      \"properties\": {\n        \"dtype\": \"category\",\n        \"num_unique_values\": 16,\n        \"samples\": [\n          \"CHAdeMO\",\n          \"Vehicle-to-Home (V2H)\",\n          \"Mobile Charging\"\n        ],\n        \"semantic_type\": \"\",\n        \"description\": \"\"\n      }\n    },\n    {\n      \"column\": \"Charge_Time_hr\",\n      \"properties\": {\n        \"dtype\": \"number\",\n        \"std\": 3.3505972117764706,\n        \"min\": 0.5,\n        \"max\": 12.0,\n        \"num_unique_values\": 116,\n        \"samples\": [\n          8.7,\n          3.6,\n          5.9\n        ],\n        \"semantic_type\": \"\",\n        \"description\": \"\"\n      }\n    },\n    {\n      \"column\": \"Price_USD\",\n      \"properties\": {\n        \"dtype\": \"number\",\n        \"std\": 34654.53383761468,\n        \"min\": 30014.46,\n        \"max\": 149978.53,\n        \"num_unique_values\": 3021,\n        \"samples\": [\n          148318.04,\n          128099.9,\n          108570.94\n        ],\n        \"semantic_type\": \"\",\n        \"description\": \"\"\n      }\n    },\n    {\n      \"column\": \"Color\",\n      \"properties\": {\n        \"dtype\": \"category\",\n        \"num_unique_values\": 55,\n        \"samples\": [\n          \"Candy Apple Red\",\n          \"Ruby Red\",\n          \"Yellow\"\n        ],\n        \"semantic_type\": \"\",\n        \"description\": \"\"\n      }\n    },\n    {\n      \"column\": \"Country_of_Manufacture\",\n      \"properties\": {\n        \"dtype\": \"category\",\n        \"num_unique_values\": 40,\n        \"samples\": [\n          \"Finland\",\n          \"India\",\n          \"Saudi Arabia\"\n        ],\n        \"semantic_type\": \"\",\n        \"description\": \"\"\n      }\n    },\n    {\n      \"column\": \"Autonomous_Level\",\n      \"properties\": {\n        \"dtype\": \"number\",\n        \"std\": 1.7137121203367038,\n        \"min\": 0.0,\n        \"max\": 5.0,\n        \"num_unique_values\": 6,\n        \"samples\": [\n          0.0,\n          2.0,\n          4.0\n        ],\n        \"semantic_type\": \"\",\n        \"description\": \"\"\n      }\n    },\n    {\n      \"column\": \"CO2_Emissions_g_per_km\",\n      \"properties\": {\n        \"dtype\": \"number\",\n        \"std\": 0.0,\n        \"min\": 0.0,\n        \"max\": 0.0,\n        \"num_unique_values\": 1,\n        \"samples\": [\n          0.0\n        ],\n        \"semantic_type\": \"\",\n        \"description\": \"\"\n      }\n    },\n    {\n      \"column\": \"Safety_Rating\",\n      \"properties\": {\n        \"dtype\": \"number\",\n        \"std\": 0.8195944841069585,\n        \"min\": 3.0,\n        \"max\": 5.0,\n        \"num_unique_values\": 3,\n        \"samples\": [\n          5.0\n        ],\n        \"semantic_type\": \"\",\n        \"description\": \"\"\n      }\n    },\n    {\n      \"column\": \"Units_Sold_2024\",\n      \"properties\": {\n        \"dtype\": \"number\",\n        \"std\": 5771,\n        \"min\": 6,\n        \"max\": 19996,\n        \"num_unique_values\": 2796,\n        \"samples\": [\n          5751\n        ],\n        \"semantic_type\": \"\",\n        \"description\": \"\"\n      }\n    },\n    {\n      \"column\": \"Warranty_Years\",\n      \"properties\": {\n        \"dtype\": \"number\",\n        \"std\": 0,\n        \"min\": 3,\n        \"max\": 5,\n        \"num_unique_values\": 3,\n        \"samples\": [\n          3\n        ],\n        \"semantic_type\": \"\",\n        \"description\": \"\"\n      }\n    }\n  ]\n}"
            }
          },
          "metadata": {},
          "execution_count": 22
        }
      ]
    },
    {
      "cell_type": "code",
      "source": [
        "# data_Shape\n",
        "wine.shape"
      ],
      "metadata": {
        "id": "9ylSjp5ahGsZ",
        "outputId": "88f81c42-e2b3-44e5-d247-80861f96f21c",
        "colab": {
          "base_uri": "https://localhost:8080/"
        }
      },
      "execution_count": 28,
      "outputs": [
        {
          "output_type": "execute_result",
          "data": {
            "text/plain": [
              "(3022, 17)"
            ]
          },
          "metadata": {},
          "execution_count": 28
        }
      ]
    },
    {
      "cell_type": "code",
      "source": [
        "# data_Columns\n",
        "wine.columns"
      ],
      "metadata": {
        "id": "E71SFBQuoHUi",
        "outputId": "1c6692ff-4c44-4b40-8ade-b48658b3e5cc",
        "colab": {
          "base_uri": "https://localhost:8080/"
        }
      },
      "execution_count": 27,
      "outputs": [
        {
          "output_type": "execute_result",
          "data": {
            "text/plain": [
              "Index(['Vehicle_ID', 'Manufacturer', 'Model', 'Year', 'Battery_Type',\n",
              "       'Battery_Capacity_kWh', 'Range_km', 'Charging_Type', 'Charge_Time_hr',\n",
              "       'Price_USD', 'Color', 'Country_of_Manufacture', 'Autonomous_Level',\n",
              "       'CO2_Emissions_g_per_km', 'Safety_Rating', 'Units_Sold_2024',\n",
              "       'Warranty_Years'],\n",
              "      dtype='object')"
            ]
          },
          "metadata": {},
          "execution_count": 27
        }
      ]
    },
    {
      "cell_type": "markdown",
      "source": [
        "### **Data Description**\n",
        "\n",
        "---\n",
        "\n",
        "\n",
        "\n",
        "*   Vehicle_ID = รหัสรถ\n",
        "*  Manufacturer = ผู้ผลิต\n",
        "*   Year = ปี\n",
        "*   Battery_Type = ประเภทแบตเตอรี่\n",
        "*   Battery_Capacity_kWh = ความจุแบตเตอรี่ (kWh)\n",
        "*   Charging_Type = ประเภทการชาร์จ\n",
        "*  Charge_Time_hr = เวลาในการชาร์จ (ชม.)\n",
        "*   Price_USD = ราคา (USD)\n",
        "*   Color = สี\n",
        "*   Country_of_Manufacture = ประเทศผู้ผลิต\n",
        "*   CO2_Emissions_g_per_km = ปริมาณการปล่อย CO2 (กรัมต่อกิโลเมตร)\n",
        "*   Safety_Rating = ระดับความปลอดภัย\n",
        "*   Units_Sold_2024 = จำนวนหน่วยที่ขาย (หน่วย: ปี)\n",
        "*   Warranty_Years =  ปีการรับประกัน (ปี)\n",
        "\n",
        "\n",
        "\n"
      ],
      "metadata": {
        "id": "xrLK6n3zooDX"
      }
    },
    {
      "cell_type": "markdown",
      "source": [
        "### **Data Preparation**"
      ],
      "metadata": {
        "id": "MVQQlRXEfvkN"
      }
    },
    {
      "cell_type": "code",
      "source": [
        "# Check duplicate rows\n",
        "wine.duplicated().sum()"
      ],
      "metadata": {
        "id": "4lpGWsOKhz4U",
        "outputId": "67a32d82-4648-43cc-ab36-68d63412f4fe",
        "colab": {
          "base_uri": "https://localhost:8080/"
        }
      },
      "execution_count": 25,
      "outputs": [
        {
          "output_type": "execute_result",
          "data": {
            "text/plain": [
              "np.int64(0)"
            ]
          },
          "metadata": {},
          "execution_count": 25
        }
      ]
    },
    {
      "cell_type": "code",
      "source": [
        "# Remove duplicate rows\n",
        "wine = wine.drop_duplicates()"
      ],
      "metadata": {
        "id": "kRktlIl1hzrV"
      },
      "execution_count": 26,
      "outputs": []
    },
    {
      "cell_type": "code",
      "source": [],
      "metadata": {
        "id": "Hq6eyF23m08w"
      },
      "execution_count": null,
      "outputs": []
    },
    {
      "cell_type": "markdown",
      "source": [
        "### **Checking and handling duplicate data**"
      ],
      "metadata": {
        "id": "Bw5rgKNPhxrl"
      }
    },
    {
      "cell_type": "code",
      "source": [],
      "metadata": {
        "id": "oRyu8ZA5h0bH"
      },
      "execution_count": 24,
      "outputs": []
    },
    {
      "cell_type": "code",
      "source": [],
      "metadata": {
        "id": "pBAihXkgh0VJ"
      },
      "execution_count": 24,
      "outputs": []
    },
    {
      "cell_type": "markdown",
      "source": [
        "### **Checking and handling inconsistent Datatypes**"
      ],
      "metadata": {
        "id": "VZ46I5FZh_2l"
      }
    },
    {
      "cell_type": "code",
      "source": [],
      "metadata": {
        "id": "rmRgSTwliBqO"
      },
      "execution_count": 24,
      "outputs": []
    },
    {
      "cell_type": "code",
      "source": [],
      "metadata": {
        "id": "ThuWQvJMiB0w"
      },
      "execution_count": 24,
      "outputs": []
    },
    {
      "cell_type": "markdown",
      "source": [
        "### **Checking and handling missing data**"
      ],
      "metadata": {
        "id": "bsGrBJSXiFG9"
      }
    },
    {
      "cell_type": "code",
      "source": [],
      "metadata": {
        "id": "8fC7EV5uiI0D"
      },
      "execution_count": 24,
      "outputs": []
    },
    {
      "cell_type": "code",
      "source": [],
      "metadata": {
        "id": "pS45J7mdiJFR"
      },
      "execution_count": 24,
      "outputs": []
    },
    {
      "cell_type": "markdown",
      "source": [
        "### **EDA and Data Visualization**"
      ],
      "metadata": {
        "id": "CXFH44-_iJgW"
      }
    },
    {
      "cell_type": "code",
      "source": [],
      "metadata": {
        "id": "nsuQuS6yiN5Q"
      },
      "execution_count": 24,
      "outputs": []
    },
    {
      "cell_type": "code",
      "source": [],
      "metadata": {
        "id": "6WegiX4biNeo"
      },
      "execution_count": 24,
      "outputs": []
    }
  ],
  "metadata": {
    "colab": {
      "name": "scratchpad",
      "provenance": [],
      "include_colab_link": true
    },
    "kernelspec": {
      "display_name": "Python 3",
      "name": "python3"
    }
  },
  "nbformat": 4,
  "nbformat_minor": 0
}